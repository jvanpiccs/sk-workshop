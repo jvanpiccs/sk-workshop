{
 "cells": [
  {
   "cell_type": "markdown",
   "metadata": {},
   "source": [
    "### LAB02 - AI Plugins in Semantic Kernel\n",
    "\n",
    "In this lab, we will learn how to use Semantic Kernel to build native and semantic functions and group them together as AI Plugins. We'll work on the following steps:\n",
    "\n",
    "1) What are AI Plugins? \n",
    "2) Creating and importing Semantic Functions from a Plugin.\n",
    "2) Creating Native Functions.\n",
    "....\n",
    "3) Transforming your functions in AI Plugins"
   ]
  },
  {
   "cell_type": "markdown",
   "metadata": {},
   "source": [
    "#### What are AI Plugins?\n",
    "As the Copilot concept evolves, it's important to think on ways to extend their capabilities, allowing them to retrieve external information, interact with external services and execute actions on the behavior of the user on a safer way, following Responsible AI principles.\n",
    "\n",
    "The concept of **Plugins** is an answer to this, as they can act as a \"bridge\" between Copilots / AI Apps and the digital world. \n",
    "![Plugins Overview](images/plugins_overview.png)\n",
    "\n",
    "With Plugins, it's possible to expand Copilots capabilities and promote interoperability across the industry as Semantic Kernel adopts an open standard for plugins, the [OpenAPI Specification](https://swagger.io/specification/).\n",
    "\n",
    "Let's get started with the creation of Functions, which will be the base of our AI Plugins. Here, we'll explore Plugins as a collection of functions. "
   ]
  },
  {
   "cell_type": "markdown",
   "metadata": {},
   "source": [
    "#### Creating and importing Semantic Functions\n",
    "\n",
    "In the first lesson, we have created and used an [**inline**](https://learn.microsoft.com/en-us/semantic-kernel/ai-orchestration/plugins/semantic-functions/inline-semantic-functions?tabs=python) Semantic Function to categorize a call.However this approach is fine for development and testing, we need a more robust way to ensure we can reuse the functions across projects and rapidly maintain / change the prompts and function parameters as required.\n",
    "\n",
    "Therefore, we'll now explore how we can reuse such functions. Semantic Kernel allows us to import files to define functions. We must follow a standard folder structure when creating the files. Here's an example:\n",
    "\n",
    "```\n",
    "📁 plugins\n",
    "│\n",
    "└─── 📂 plugin_name_A\n",
    "     |\n",
    "     └─── 📂 function_name_A \n",
    "     |      |\n",
    "     |      └───📄 skprompt.txt\n",
    "     |      └───📄 config.json\n",
    "     |\n",
    "     └─── 📂 function_name_B \n",
    "            |\n",
    "            └───📄 skprompt.txt\n",
    "            └───📄 config.json\n",
    "    📂 plugin_name_B\n",
    "     |\n",
    "     └─── 📂 function_name_C \n",
    "            |\n",
    "            └───📄 skprompt.txt\n",
    "            └───📄 config.json\n",
    "```\n",
    "\n",
    "With this structure in mind, we already start organizing our plugins and grouping together functions that belong to a plugin. For each Function (represented by a Folder) we must have two files:\n",
    "* **skprompt.txt**: it's the file that will contain the prompt of a Semantic Function. Therefore, we can easily maintain our functions by reviewing the prompts;\n",
    "* **config.json**: it's a configuration file that will describe the function in natural language, define which parameters the function requires, and the overall configuration the LLM should use run that function, such as temperature and maximum number of tokens. "
   ]
  },
  {
   "cell_type": "markdown",
   "metadata": {},
   "source": [
    "With this structure in mind, we already defined a folder structure to contain the funcions for a Call Center solution plugin. In this lesson, we'll recreate the function used before to fit into this structure.\n",
    "\n",
    "Copy and paste the prompt below in the skprompt.txt file inside the Semantic Function \"categorize\" under \"callcenter\" plugin:\n",
    "\n",
    "```txt\n",
    "You help a Telecom company to classify problems reported by their subscribers. Your role is to provide accurate classification based on problems description and a list of categories that the Telecom company uses.\n",
    "Classify the problem in one of the provided categories. Only write the output category with no extra text.\n",
    "Only write one category per problem description.\n",
    "\n",
    "Examples: \n",
    "Problem: My 5G is not working well when I'm in my car.\n",
    "Categories: Fixed Internet/Wifi, Mobile Internet.\n",
    "Output Category: Mobile Internet\n",
    "\n",
    "Problem: My TV is not streaming well from Youtube. It seems that the wifi in my bedroom is weak.\n",
    "Categories: Mobile Internet, TV, Fixed Internet/Wifi.\n",
    "Output Category: Fixed Internet/Wifi\n",
    "\n",
    "Problem: It's impossible to work today, my internet here in my home is so slow!\n",
    "Categories: Landiline, Mobile Internet, TV, Fixed Internet/Wifi.\n",
    "Output Category: Fixed Internet/Wifi\n",
    "\n",
    "Problem: {{$problem}}\n",
    "Categories: {{$categories}}\n",
    "Output Category: \n",
    "```\n",
    "\n",
    "Next, modify the config.json file to ensure it looks like these:\n",
    "```json\n",
    "{\n",
    "     \"schema\": 1,\n",
    "     \"type\": \"completion\",\n",
    "     \"description\": \"Categorize a problem reported in a call to the Telecom company based on provided categories.\",\n",
    "     \"completion\": {\n",
    "          \"max_tokens\": 10,\n",
    "          \"temperature\": 0.5,\n",
    "          \"top_p\": 0.0,\n",
    "          \"presence_penalty\": 0.0,\n",
    "          \"frequency_penalty\": 0.0\n",
    "     },\n",
    "     \"input\": {\n",
    "          \"parameters\": [\n",
    "               {\n",
    "                    \"name\": \"problem\",\n",
    "                    \"description\": \"The problem reported by the user that needs to be classified.\",\n",
    "                    \"defaultValue\": \"\"\n",
    "               },\n",
    "               {\n",
    "                    \"name\": \"categories\",\n",
    "                    \"description\": \"A set of categories used by the Telecom company to classify the problems.\",\n",
    "                    \"defaultValue\": \"\"\n",
    "               }\n",
    "          ]\n",
    "     }\n",
    "}\n",
    "```\n",
    "\n",
    "Your folder structure should look like this. Let's define a variable to represent our Plugins folder.\n",
    "```\n",
    "📁 plugins\n",
    "│\n",
    "└─── 📂 callcenter\n",
    "     |\n",
    "     └─── 📂 categorize \n",
    "     |      |\n",
    "     |      └───📄 skprompt.txt\n",
    "     |      └───📄 config.json\n",
    "```"
   ]
  },
  {
   "cell_type": "code",
   "execution_count": null,
   "metadata": {},
   "outputs": [],
   "source": [
    "#Define where the plugins are stored\n",
    "plugins_directory = \"../plugins\""
   ]
  },
  {
   "cell_type": "markdown",
   "metadata": {},
   "source": [
    "To manipulate functions, we need to ensure we have all our pre-requirements set, as we did in the previous lesson. "
   ]
  },
  {
   "cell_type": "code",
   "execution_count": null,
   "metadata": {},
   "outputs": [],
   "source": [
    "import semantic_kernel as sk\n",
    "\n",
    "#Importing the Azure Text Completion service connector\n",
    "from semantic_kernel.connectors.ai.open_ai import AzureTextCompletion\n",
    "\n",
    "# Initialize the kernel\n",
    "kernel = sk.Kernel()\n",
    "\n",
    "#Read the model, API key and endpoint from the .env file\n",
    "deployment, api_key, endpoint = sk.azure_openai_settings_from_dot_env() \n",
    "\n",
    "#Since our function is a Text Completion, we need to add it to the kernel\n",
    "kernel.add_text_completion_service(\"Text Completion - Text-DaVinci-003\", \n",
    "                                   AzureTextCompletion(deployment, endpoint, api_key))"
   ]
  },
  {
   "cell_type": "markdown",
   "metadata": {},
   "source": [
    "Now we can refer to our Plugin and import it to be able to use its functions."
   ]
  },
  {
   "cell_type": "code",
   "execution_count": null,
   "metadata": {},
   "outputs": [],
   "source": [
    "# Importing the callcenter Plugin from the plugins directory, so we can start using its functions \n",
    "callcenter_plugin = kernel.import_semantic_skill_from_directory(\n",
    "    plugins_directory, \"callcenter\"\n",
    ")"
   ]
  },
  {
   "cell_type": "markdown",
   "metadata": {},
   "source": [
    "In both **config.json** and **skprompt.txt** files we have defined input parameters that \"**Categorize**\" function requires. In Semantic Kernel we need to use **ContextVariables** to bind values with such parameters. \n",
    "\n",
    "After defining the input variables, we can finally call our semantic function available in our Plugin to perform the expected operation. Please note in the code that we can have multiple functions in a Plugin, so in this case we had to explicitly mention which semantic function we would like to use."
   ]
  },
  {
   "cell_type": "code",
   "execution_count": 10,
   "metadata": {},
   "outputs": [
    {
     "name": "stdout",
     "output_type": "stream",
     "text": [
      " Mobile Internet\n"
     ]
    }
   ],
   "source": [
    "#Defining the input variables for the function\n",
    "variables = sk.ContextVariables()\n",
    "variables[\"problem\"] = \"My 3G is terrible slow .\"\n",
    "variables[\"categories\"] = \"Landline, Mobile Internet, TV, Fixed Internet/Wif\"\n",
    "\n",
    "#Call the plugin with input variables\n",
    "result = await kernel.run_async(\n",
    "    callcenter_plugin[\"categorize\"],\n",
    "    input_vars = variables\n",
    "    )\n",
    "\n",
    "print(result)"
   ]
  }
 ],
 "metadata": {
  "kernelspec": {
   "display_name": "workshop",
   "language": "python",
   "name": "python3"
  },
  "language_info": {
   "codemirror_mode": {
    "name": "ipython",
    "version": 3
   },
   "file_extension": ".py",
   "mimetype": "text/x-python",
   "name": "python",
   "nbconvert_exporter": "python",
   "pygments_lexer": "ipython3",
   "version": "3.11.6"
  }
 },
 "nbformat": 4,
 "nbformat_minor": 2
}

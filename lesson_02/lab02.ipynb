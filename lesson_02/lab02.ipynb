{
 "cells": [
  {
   "cell_type": "markdown",
   "metadata": {},
   "source": [
    "### LAB02 - AI Plugins in Semantic Kernel\n",
    "\n",
    "In this lab, we will learn how to use Semantic Kernel to build native and semantic functions and group them together as AI Plugins. We'll work on the following steps:\n",
    "\n",
    "1) What are AI Plugins? \n",
    "2) Create and add a Semantic Function to a Plugin.\n",
    "3) Create and add a Native Function to a Plugin.\n",
    "4) Puting it all together."
   ]
  },
  {
   "cell_type": "markdown",
   "metadata": {},
   "source": [
    "#### What are AI Plugins?\n",
    "As the Copilot concept evolves, it's important to think on ways to extend their capabilities, allowing them to retrieve external information, interact with external services and execute actions on the behavior of the user on a safer way, following Responsible AI principles.\n",
    "\n",
    "The concept of **Plugins** is an answer to this, as they can act as a \"bridge\" between Copilots / AI Apps and the digital world. \n",
    "![Plugins Overview](images/plugins_overview.png)\n",
    "\n",
    "With Plugins, it's possible to expand Copilots capabilities and promote interoperability across the industry as Semantic Kernel adopts an open standard for plugins, the [OpenAPI Specification](https://swagger.io/specification/).\n",
    "\n",
    "Let's get started with the creation of Functions, which will be the base of our AI Plugins. In Semantic Kernel we can think of Plugins as a collection of functions. Let's see in the following sections how we can create functions and group them together as a Plugin. "
   ]
  },
  {
   "cell_type": "markdown",
   "metadata": {},
   "source": [
    "#### Create and add a Semantic Function to a Plugin\n",
    "\n",
    "In the first lesson, we have created and used an [**inline**](https://learn.microsoft.com/en-us/semantic-kernel/ai-orchestration/plugins/semantic-functions/inline-semantic-functions?tabs=python) Semantic Function to categorize a call.However this approach is fine for development and testing, we need a more robust way to ensure we can reuse the functions across projects and rapidly maintain / change the prompts and function parameters as required.\n",
    "\n",
    "Therefore, we'll now explore how we can reuse such functions. Semantic Kernel allows us to import files to define functions. We must follow a standard folder structure when creating the files. Here's an example:\n",
    "\n",
    "```\n",
    "📁 plugins\n",
    "│\n",
    "└─── 📂 plugin_name_A\n",
    "     |\n",
    "     └─── 📂 function_name_A \n",
    "     |      |\n",
    "     |      └───📄 skprompt.txt\n",
    "     |      └───📄 config.json\n",
    "     |\n",
    "     └─── 📂 function_name_B \n",
    "            |\n",
    "            └───📄 skprompt.txt\n",
    "            └───📄 config.json\n",
    "    📂 plugin_name_B\n",
    "     |\n",
    "     └─── 📂 function_name_C \n",
    "            |\n",
    "            └───📄 skprompt.txt\n",
    "            └───📄 config.json\n",
    "```\n",
    "\n",
    "With this structure in mind, we already start organizing our plugins and grouping together functions that belong to a plugin. For each Function (represented by a Folder) we must have two files:\n",
    "* **skprompt.txt**: it's the file that will contain the prompt of a Semantic Function. Therefore, we can easily maintain our functions by reviewing the prompts;\n",
    "* **config.json**: it's a configuration file that will describe the function in natural language, define which parameters the function requires, and the overall configuration the LLM should use run that function, such as temperature and maximum number of tokens. "
   ]
  },
  {
   "cell_type": "markdown",
   "metadata": {},
   "source": [
    "With this structure in mind, we already defined a folder structure to contain the funcions for a Call Center solution plugin. In this lesson, we'll recreate the function used before to fit into this structure.\n",
    "\n",
    "Copy and paste the prompt below in the skprompt.txt file inside the Semantic Function \"categorize\" under \"callcenter\" plugin:\n",
    "\n",
    "```txt\n",
    "You help a Telecom company to classify problems reported by their subscribers. Your role is to provide accurate classification based on problems description and a list of categories that the Telecom company uses.\n",
    "Classify the problem in one of the provided categories. Only write the output category with no extra text.\n",
    "Only write one category per problem description.\n",
    "\n",
    "Examples: \n",
    "Problem: My 5G is not working well when I'm in my car.\n",
    "Categories: Fixed Internet/Wifi, Mobile Internet.\n",
    "Output Category: Mobile Internet\n",
    "\n",
    "Problem: My TV is not streaming well from Youtube. It seems that the wifi in my bedroom is weak.\n",
    "Categories: Mobile Internet, TV, Fixed Internet/Wifi.\n",
    "Output Category: Fixed Internet/Wifi\n",
    "\n",
    "Problem: It's impossible to work today, my internet here in my home is so slow!\n",
    "Categories: Landiline, Mobile Internet, TV, Fixed Internet/Wifi.\n",
    "Output Category: Fixed Internet/Wifi\n",
    "\n",
    "Problem: {{$problem}}\n",
    "Categories: {{$categories}}\n",
    "Output Category: \n",
    "```\n",
    "\n",
    "Next, modify the config.json file to ensure it looks like these:\n",
    "```json\n",
    "{\n",
    "     \"schema\": 1,\n",
    "     \"type\": \"completion\",\n",
    "     \"description\": \"Categorize a problem reported in a call to the Telecom company based on provided categories.\",\n",
    "     \"completion\": {\n",
    "          \"max_tokens\": 10,\n",
    "          \"temperature\": 0.5,\n",
    "          \"top_p\": 0.0,\n",
    "          \"presence_penalty\": 0.0,\n",
    "          \"frequency_penalty\": 0.0\n",
    "     },\n",
    "     \"input\": {\n",
    "          \"parameters\": [\n",
    "               {\n",
    "                    \"name\": \"problem\",\n",
    "                    \"description\": \"The problem reported by the user that needs to be classified.\",\n",
    "                    \"defaultValue\": \"\"\n",
    "               },\n",
    "               {\n",
    "                    \"name\": \"categories\",\n",
    "                    \"description\": \"A set of categories used by the Telecom company to classify the problems.\",\n",
    "                    \"defaultValue\": \"\"\n",
    "               }\n",
    "          ]\n",
    "     }\n",
    "}\n",
    "```\n",
    "\n",
    "At this moment, your folder structure should have at least the structure below.\n",
    "```\n",
    "📁 plugins\n",
    "│\n",
    "└─── 📂 CallCenterPlugin\n",
    "     |\n",
    "     └─── 📂 categorize \n",
    "     |      |\n",
    "     |      └───📄 skprompt.txt\n",
    "     |      └───📄 config.json\n",
    "```"
   ]
  },
  {
   "cell_type": "markdown",
   "metadata": {},
   "source": [
    "Let's define a variable to represent our Plugins folder."
   ]
  },
  {
   "cell_type": "code",
   "execution_count": 84,
   "metadata": {},
   "outputs": [],
   "source": [
    "#Define where the plugins are stored\n",
    "plugins_directory = \"../plugins\""
   ]
  },
  {
   "cell_type": "markdown",
   "metadata": {},
   "source": [
    "To manipulate functions, we need to ensure we have all our pre-requirements set, as we did in the previous lesson. "
   ]
  },
  {
   "cell_type": "code",
   "execution_count": 85,
   "metadata": {},
   "outputs": [
    {
     "data": {
      "text/plain": [
       "<semantic_kernel.kernel.Kernel at 0x2cab2f2bdd0>"
      ]
     },
     "execution_count": 85,
     "metadata": {},
     "output_type": "execute_result"
    }
   ],
   "source": [
    "import semantic_kernel as sk\n",
    "\n",
    "#Importing the Azure Text Completion service connector\n",
    "from semantic_kernel.connectors.ai.open_ai import AzureTextCompletion\n",
    "\n",
    "# Initialize the kernel\n",
    "kernel = sk.Kernel()\n",
    "\n",
    "#Read the model, API key and endpoint from the .env file\n",
    "deployment, api_key, endpoint = sk.azure_openai_settings_from_dot_env() \n",
    "\n",
    "#Since our function is a Text Completion, we need to add it to the kernel\n",
    "kernel.add_text_completion_service(\"Text Completion - Text-DaVinci-003\", \n",
    "                                   AzureTextCompletion(deployment, endpoint, api_key))"
   ]
  },
  {
   "cell_type": "markdown",
   "metadata": {},
   "source": [
    "Now we can refer to our Plugin and import it to be able to use its functions."
   ]
  },
  {
   "cell_type": "code",
   "execution_count": 86,
   "metadata": {},
   "outputs": [],
   "source": [
    "# Importing the callcenter Plugin from the plugins directory, so we can start using its functions \n",
    "callcenter_plugin = kernel.import_semantic_skill_from_directory(\n",
    "    plugins_directory, \"CallCenterPlugin\"\n",
    ")"
   ]
  },
  {
   "cell_type": "markdown",
   "metadata": {},
   "source": [
    "In both **config.json** and **skprompt.txt** files we have defined input parameters that \"**Categorize**\" function requires. In Semantic Kernel we need to use **ContextVariables** to bind values with such parameters. \n",
    "\n",
    "After defining the input variables, we can finally call our semantic function available in our Plugin to perform the expected operation. Please note in the code that we can have multiple functions in a Plugin, so in this case we had to explicitly mention which semantic function we would like to use."
   ]
  },
  {
   "cell_type": "code",
   "execution_count": 87,
   "metadata": {},
   "outputs": [
    {
     "name": "stdout",
     "output_type": "stream",
     "text": [
      " Mobile Internet\n"
     ]
    }
   ],
   "source": [
    "#Defining the input variables for the function\n",
    "variables = sk.ContextVariables()\n",
    "variables[\"problem\"] = \"My 3G is terrible slow .\"\n",
    "variables[\"categories\"] = \"Landline, Mobile Internet, TV, Fixed Internet/Wifi\"\n",
    "\n",
    "#Call the plugin with input variables\n",
    "result = await kernel.run_async(\n",
    "    callcenter_plugin[\"categorize\"],\n",
    "    input_vars = variables\n",
    "    )\n",
    "\n",
    "print(result)"
   ]
  },
  {
   "cell_type": "markdown",
   "metadata": {},
   "source": [
    "### Create and add a Native Function to a Plugin\n",
    "\n",
    "When we think about the concept of AI Apps it's important to remember that an application will certainly require capabilities that will not be provided solely by Large Language Models. For example, performing calculations, retrieving data from a database and even executing API calls are some of the expected capabilities an application generally has. \n",
    "\n",
    "Therefore, we still need to run native code and be able to combine it with AI capabilities to go beyond and create transformative applications powered by modern AI!\n",
    "\n",
    "In semantic Kernel we can add native code in different languages, like C# and Python, to be part of our Plugins. We should use the same folder structure from before, however, instead of prompts and configurations, we will have native code, like .py (Python) or .cs (C#) files.\n",
    "\n",
    "For example, let's assume that we want to add a new function to \"CallCenter\" Plugin to transcribe audio files using. Let's see how our folder structure would look like:\n",
    "\n",
    "```\n",
    "📁 plugins\n",
    "│\n",
    "└─── 📂 CallCenterPlugin\n",
    "     |\n",
    "     └─── 📂 categorize \n",
    "     |      |\n",
    "     |      └───📄 skprompt.txt\n",
    "     |      └───📄 config.json\n",
    "     |\n",
    "     └─── 📂 transcribe\n",
    "            |   \n",
    "            └───📄 transcribe.py\n",
    "```"
   ]
  },
  {
   "cell_type": "markdown",
   "metadata": {},
   "source": [
    "Let's assume we already have a base code in Python that is capable of transcribing an audio file to text, as shown below:\n",
    "\n",
    "```python\n",
    "import azure.cognitiveservices.speech as speechsdk\n",
    "\n",
    "# Define the transcribe_audio function\n",
    "def transcribe_audio(audio_file, language, subscription_key, region):\n",
    "    # Set up the speech configuration\n",
    "    speech_config = speechsdk.SpeechConfig(subscription=subscription_key, region=region)\n",
    "    # Define the language of the audio file\n",
    "    speech_config.speech_recognition_language = language\n",
    "\n",
    "    # Open the audio file\n",
    "    audio_config = speechsdk.audio.AudioConfig(filename=audio_file)\n",
    "\n",
    "    # Create a speech recognizer\n",
    "    speech_recognizer = speechsdk.SpeechRecognizer(speech_config=speech_config, audio_config=audio_config)\n",
    "\n",
    "    # Define global variables\n",
    "    global done \n",
    "    done = False\n",
    "    global recognized_text_list \n",
    "    recognized_text_list=[]\n",
    "\n",
    "    # Define the stop callback function\n",
    "    def stop_cb(evt: speechsdk.SessionEventArgs):\n",
    "        \"\"\"callback that signals to stop continuous recognition upon receiving an event `evt`\"\"\"\n",
    "        print('CLOSING on {}'.format(evt))\n",
    "        global done\n",
    "        done = True\n",
    "\n",
    "    # Define the recognize callback function\n",
    "    def recognize_cb(evt: speechsdk.SpeechRecognitionEventArgs):\n",
    "        \"\"\"callback for recognizing the recognized text\"\"\"\n",
    "        global recognized_text_list\n",
    "        recognized_text_list.append(evt.result.text)\n",
    "\n",
    "    # Connect callbacks to the events fired by the speech recognizer\n",
    "    speech_recognizer.recognized.connect(recognize_cb)\n",
    "    speech_recognizer.session_started.connect(lambda evt: print('STT SESSION STARTED: {}'.format(evt)))\n",
    "    speech_recognizer.session_stopped.connect(lambda evt: print('STT SESSION STOPPED {}'.format(evt)))\n",
    "    speech_recognizer.session_stopped.connect(stop_cb)\n",
    " \n",
    "    # Start continuous speech recognition\n",
    "    speech_recognizer.start_continuous_recognition()\n",
    "    while not done:\n",
    "        time.sleep(.5)\n",
    "\n",
    "    # Stop continuous speech recognition\n",
    "    speech_recognizer.stop_continuous_recognition()\n",
    "    \n",
    "    # Convert to string and return the transcription\n",
    "    return recognized_text_list\n",
    "```\n"
   ]
  },
  {
   "cell_type": "markdown",
   "metadata": {},
   "source": [
    "\n",
    " We need to do some small changes in the code to ensure it can become a native function and can be addedd to our Plugin in Semantic Kernel. In summary:\n",
    "- **Transform it in a class:** all native functions must be defined as public methods that belong to a class. This class will represent our Plugin.\n",
    "- **Add the decorator @sk_function:** the kernel will use this decorator to be able to register this function as the plugin is loaded. The decorator will also describe the function and its input parameter (if only one). Such information can be later used by Planners to orchestrate Plugins.\n",
    "- **Add the decorator sk_function_context_parameter:** if your function has multiple input parameters you need to use this decorator to describe the input parameters with their names and description, so the kernel understand how to call the function.\n",
    "-**Import the required libraries:** you need to import the skill_definition module. \n",
    "\n",
    "Let's see our modified code. Ensure the code from the cell below is also present in the file **\"transcribe.py\"** in the plugins directory."
   ]
  },
  {
   "cell_type": "code",
   "execution_count": 29,
   "metadata": {},
   "outputs": [
    {
     "name": "stdout",
     "output_type": "stream",
     "text": [
      "STT SESSION STARTED: SessionEventArgs(session_id=bed631eb26aa4822b1533c6bdd89162b)\n",
      "STT SESSION STOPPED SessionEventArgs(session_id=bed631eb26aa4822b1533c6bdd89162b)\n",
      "CLOSING on SessionEventArgs(session_id=bed631eb26aa4822b1533c6bdd89162b)\n",
      "Thank you for calling us.Who am I speaking with?Hello, my name is Peter Smith.I have a small business and have some questions about billing processing. Good morning, Peter.Before we begin, may I ask some questions to better answer your questions today, yes.In case we get disconnected, can you share your phone number and e-mail address so we can get in touch and share additional information?Yes, my phone number is 02199991234 and my e-mail address is peter.smith@contoso.com. May I ask where your business is located so I can answer your questions based on your location? Yes, my business is located in Dallas state of Texas.Thank you. How can I help you today? I am relatively new to this process and currently do everything manually.Do you have any advice or tips on manual telephone billing processing? If you are a small business with few employees and have opted for manual billing, you will need to keep accurate records of employees and devices among other details.You should also ensure that your calculations are correct and remember to submit all necessary proof on time.Thank you, that is quite helpful. Are there specific procedures I should follow?Certain aspects of billing processing are regulated by Anatel. Some of the rules you must comply with include resolution number 717 and the general telecommunications law. That sounds very complicated. I really don't feel like managing all of this. If you would like, I can transfer you to one of our specialized agents who can talk to you about billing service providers who will help you manage all of this.All right. Thank you very much for all your help.\n"
     ]
    }
   ],
   "source": [
    "# Import the time module\n",
    "import time\n",
    "\n",
    "# Define the transcribe_audio function\n",
    "def transcribe_audio(audio_file, language, subscription_key, region):\n",
    "    # Set up the speech configuration\n",
    "    speech_config = speechsdk.SpeechConfig(subscription=subscription_key, region=region)\n",
    "    # Define the language of the audio file\n",
    "    speech_config.speech_recognition_language = language\n",
    "\n",
    "    # Open the audio file\n",
    "    audio_config = speechsdk.audio.AudioConfig(filename=audio_file)\n",
    "\n",
    "    # Create a speech recognizer\n",
    "    speech_recognizer = speechsdk.SpeechRecognizer(speech_config=speech_config, audio_config=audio_config)\n",
    "\n",
    "    # Define global variables\n",
    "    global done \n",
    "    done = False\n",
    "    global recognized_text_list \n",
    "    recognized_text_list=[]\n",
    "\n",
    "    # Define the stop callback function\n",
    "    def stop_cb(evt: speechsdk.SessionEventArgs):\n",
    "        \"\"\"callback that signals to stop continuous recognition upon receiving an event `evt`\"\"\"\n",
    "        print('CLOSING on {}'.format(evt))\n",
    "        global done\n",
    "        done = True\n",
    "\n",
    "    # Define the recognize callback function\n",
    "    def recognize_cb(evt: speechsdk.SpeechRecognitionEventArgs):\n",
    "        \"\"\"callback for recognizing the recognized text\"\"\"\n",
    "        global recognized_text_list\n",
    "        recognized_text_list.append(evt.result.text)\n",
    "\n",
    "    # Connect callbacks to the events fired by the speech recognizer\n",
    "    speech_recognizer.recognized.connect(recognize_cb)\n",
    "    speech_recognizer.session_started.connect(lambda evt: print('STT SESSION STARTED: {}'.format(evt)))\n",
    "    speech_recognizer.session_stopped.connect(lambda evt: print('STT SESSION STOPPED {}'.format(evt)))\n",
    "    speech_recognizer.session_stopped.connect(stop_cb)\n",
    " \n",
    "    # Start continuous speech recognition\n",
    "    speech_recognizer.start_continuous_recognition()\n",
    "    while not done:\n",
    "        time.sleep(.5)\n",
    "\n",
    "    # Stop continuous speech recognition\n",
    "    speech_recognizer.stop_continuous_recognition()\n",
    "    \n",
    "    # Convert to string and return the transcription\n",
    "    return recognized_text_list\n",
    "\n",
    "# Usage example\n",
    "audio_file = \"./audio/english_billing_process_sample.wav\"\n",
    "language = \"en-US\"\n",
    "subscription_key = \"8198d6d7eb8341ba90022f1224ee8967\"\n",
    "region = \"brazilsouth\"\n",
    "\n",
    "# Call the transcribe_audio function\n",
    "transcription = transcribe_audio(audio_file, language, subscription_key, region)\n",
    "print(transcription)"
   ]
  },
  {
   "cell_type": "code",
   "execution_count": 122,
   "metadata": {},
   "outputs": [
    {
     "ename": "KernelException",
     "evalue": "(<ErrorCodes.FunctionTypeNotSupported: 3>, 'Invalid function type detected, unable to infer DelegateType. Function: (language, subscription_key, region)', None)",
     "output_type": "error",
     "traceback": [
      "\u001b[1;31m---------------------------------------------------------------------------\u001b[0m",
      "\u001b[1;31mKernelException\u001b[0m                           Traceback (most recent call last)",
      "Cell \u001b[1;32mIn[122], line 19\u001b[0m\n\u001b[0;32m     16\u001b[0m variables[\u001b[38;5;124m\"\u001b[39m\u001b[38;5;124msubscription_key\u001b[39m\u001b[38;5;124m\"\u001b[39m] \u001b[38;5;241m=\u001b[39m aispeech_subscription_key\n\u001b[0;32m     17\u001b[0m variables[\u001b[38;5;124m\"\u001b[39m\u001b[38;5;124mregion\u001b[39m\u001b[38;5;124m\"\u001b[39m] \u001b[38;5;241m=\u001b[39m aispeech_region\n\u001b[1;32m---> 19\u001b[0m callcenter_plugin \u001b[38;5;241m=\u001b[39m \u001b[43mkernel\u001b[49m\u001b[38;5;241;43m.\u001b[39;49m\u001b[43mimport_skill\u001b[49m\u001b[43m(\u001b[49m\u001b[43mTranscribe\u001b[49m\u001b[43m(\u001b[49m\u001b[43m)\u001b[49m\u001b[43m,\u001b[49m\u001b[43m \u001b[49m\u001b[43mskill_name\u001b[49m\u001b[38;5;241;43m=\u001b[39;49m\u001b[38;5;124;43m\"\u001b[39;49m\u001b[38;5;124;43mCallCenterPlugin\u001b[39;49m\u001b[38;5;124;43m\"\u001b[39;49m\u001b[43m)\u001b[49m\n\u001b[0;32m     21\u001b[0m \u001b[38;5;66;03m#Call the plugin with input variables\u001b[39;00m\n\u001b[0;32m     22\u001b[0m result \u001b[38;5;241m=\u001b[39m \u001b[38;5;28;01mawait\u001b[39;00m kernel\u001b[38;5;241m.\u001b[39mrun_async(\n\u001b[0;32m     23\u001b[0m     callcenter_plugin[\u001b[38;5;124m\"\u001b[39m\u001b[38;5;124maudio1\u001b[39m\u001b[38;5;124m\"\u001b[39m],\n\u001b[0;32m     24\u001b[0m     input_vars \u001b[38;5;241m=\u001b[39m variables\n\u001b[0;32m     25\u001b[0m     )\n",
      "File \u001b[1;32m~\\AppData\\Local\\Packages\\PythonSoftwareFoundation.Python.3.11_qbz5n2kfra8p0\\LocalCache\\local-packages\\Python311\\site-packages\\semantic_kernel\\kernel.py:388\u001b[0m, in \u001b[0;36mKernel.import_skill\u001b[1;34m(self, skill_instance, skill_name)\u001b[0m\n\u001b[0;32m    384\u001b[0m     \u001b[38;5;28;01mif\u001b[39;00m \u001b[38;5;129;01mnot\u001b[39;00m \u001b[38;5;28mhasattr\u001b[39m(candidate, \u001b[38;5;124m\"\u001b[39m\u001b[38;5;124m__sk_function__\u001b[39m\u001b[38;5;124m\"\u001b[39m):\n\u001b[0;32m    385\u001b[0m         \u001b[38;5;28;01mcontinue\u001b[39;00m\n\u001b[0;32m    387\u001b[0m     functions\u001b[38;5;241m.\u001b[39mappend(\n\u001b[1;32m--> 388\u001b[0m         \u001b[43mSKFunction\u001b[49m\u001b[38;5;241;43m.\u001b[39;49m\u001b[43mfrom_native_method\u001b[49m\u001b[43m(\u001b[49m\u001b[43mcandidate\u001b[49m\u001b[43m,\u001b[49m\u001b[43m \u001b[49m\u001b[43mskill_name\u001b[49m\u001b[43m,\u001b[49m\u001b[43m \u001b[49m\u001b[38;5;28;43mself\u001b[39;49m\u001b[38;5;241;43m.\u001b[39;49m\u001b[43mlogger\u001b[49m\u001b[43m)\u001b[49m\n\u001b[0;32m    389\u001b[0m     )\n\u001b[0;32m    391\u001b[0m \u001b[38;5;28mself\u001b[39m\u001b[38;5;241m.\u001b[39mlogger\u001b[38;5;241m.\u001b[39mdebug(\u001b[38;5;124mf\u001b[39m\u001b[38;5;124m\"\u001b[39m\u001b[38;5;124mMethods imported: \u001b[39m\u001b[38;5;132;01m{\u001b[39;00m\u001b[38;5;28mlen\u001b[39m(functions)\u001b[38;5;132;01m}\u001b[39;00m\u001b[38;5;124m\"\u001b[39m)\n\u001b[0;32m    393\u001b[0m \u001b[38;5;66;03m# Uniqueness check on function names\u001b[39;00m\n",
      "File \u001b[1;32m~\\AppData\\Local\\Packages\\PythonSoftwareFoundation.Python.3.11_qbz5n2kfra8p0\\LocalCache\\local-packages\\Python311\\site-packages\\semantic_kernel\\orchestration\\sk_function.py:97\u001b[0m, in \u001b[0;36mSKFunction.from_native_method\u001b[1;34m(method, skill_name, log)\u001b[0m\n\u001b[0;32m     89\u001b[0m     input_param \u001b[38;5;241m=\u001b[39m ParameterView(\n\u001b[0;32m     90\u001b[0m         \u001b[38;5;124m\"\u001b[39m\u001b[38;5;124minput\u001b[39m\u001b[38;5;124m\"\u001b[39m,\n\u001b[0;32m     91\u001b[0m         method\u001b[38;5;241m.\u001b[39m__sk_function_input_description__,\n\u001b[0;32m     92\u001b[0m         method\u001b[38;5;241m.\u001b[39m__sk_function_input_default_value__,\n\u001b[0;32m     93\u001b[0m     )\n\u001b[0;32m     94\u001b[0m     parameters \u001b[38;5;241m=\u001b[39m [input_param] \u001b[38;5;241m+\u001b[39m parameters\n\u001b[0;32m     96\u001b[0m \u001b[38;5;28;01mreturn\u001b[39;00m SKFunction(\n\u001b[1;32m---> 97\u001b[0m     delegate_type\u001b[38;5;241m=\u001b[39m\u001b[43mDelegateInference\u001b[49m\u001b[38;5;241;43m.\u001b[39;49m\u001b[43minfer_delegate_type\u001b[49m\u001b[43m(\u001b[49m\u001b[43mmethod\u001b[49m\u001b[43m)\u001b[49m,\n\u001b[0;32m     98\u001b[0m     delegate_function\u001b[38;5;241m=\u001b[39mmethod,\n\u001b[0;32m     99\u001b[0m     delegate_stream_function\u001b[38;5;241m=\u001b[39mmethod,\n\u001b[0;32m    100\u001b[0m     parameters\u001b[38;5;241m=\u001b[39mparameters,\n\u001b[0;32m    101\u001b[0m     description\u001b[38;5;241m=\u001b[39mmethod\u001b[38;5;241m.\u001b[39m__sk_function_description__,\n\u001b[0;32m    102\u001b[0m     skill_name\u001b[38;5;241m=\u001b[39mskill_name,\n\u001b[0;32m    103\u001b[0m     function_name\u001b[38;5;241m=\u001b[39mmethod\u001b[38;5;241m.\u001b[39m__sk_function_name__,\n\u001b[0;32m    104\u001b[0m     is_semantic\u001b[38;5;241m=\u001b[39m\u001b[38;5;28;01mFalse\u001b[39;00m,\n\u001b[0;32m    105\u001b[0m     log\u001b[38;5;241m=\u001b[39mlog,\n\u001b[0;32m    106\u001b[0m )\n",
      "File \u001b[1;32m~\\AppData\\Local\\Packages\\PythonSoftwareFoundation.Python.3.11_qbz5n2kfra8p0\\LocalCache\\local-packages\\Python311\\site-packages\\semantic_kernel\\orchestration\\delegate_inference.py:259\u001b[0m, in \u001b[0;36mDelegateInference.infer_delegate_type\u001b[1;34m(function)\u001b[0m\n\u001b[0;32m    255\u001b[0m     wrapped \u001b[38;5;241m=\u001b[39m \u001b[38;5;28mgetattr\u001b[39m(value, \u001b[38;5;124m\"\u001b[39m\u001b[38;5;124m__wrapped__\u001b[39m\u001b[38;5;124m\"\u001b[39m, \u001b[38;5;28mgetattr\u001b[39m(value, \u001b[38;5;124m\"\u001b[39m\u001b[38;5;124m__func__\u001b[39m\u001b[38;5;124m\"\u001b[39m, \u001b[38;5;28;01mNone\u001b[39;00m))\n\u001b[0;32m    257\u001b[0m     \u001b[38;5;28;01mif\u001b[39;00m name\u001b[38;5;241m.\u001b[39mstartswith(\u001b[38;5;124m\"\u001b[39m\u001b[38;5;124minfer_\u001b[39m\u001b[38;5;124m\"\u001b[39m) \u001b[38;5;129;01mand\u001b[39;00m \u001b[38;5;28mhasattr\u001b[39m(wrapped, \u001b[38;5;124m\"\u001b[39m\u001b[38;5;124m_delegate_type\u001b[39m\u001b[38;5;124m\"\u001b[39m):\n\u001b[0;32m    258\u001b[0m         \u001b[38;5;66;03m# Get the delegate type\u001b[39;00m\n\u001b[1;32m--> 259\u001b[0m         \u001b[38;5;28;01mif\u001b[39;00m \u001b[43mwrapped\u001b[49m\u001b[43m(\u001b[49m\u001b[43mfunction_signature\u001b[49m\u001b[43m,\u001b[49m\u001b[43m \u001b[49m\u001b[43mawaitable\u001b[49m\u001b[43m)\u001b[49m:\n\u001b[0;32m    260\u001b[0m             \u001b[38;5;28;01mreturn\u001b[39;00m wrapped\u001b[38;5;241m.\u001b[39m_delegate_type\n\u001b[0;32m    262\u001b[0m \u001b[38;5;28;01mreturn\u001b[39;00m DelegateTypes\u001b[38;5;241m.\u001b[39mUnknown\n",
      "File \u001b[1;32m~\\AppData\\Local\\Packages\\PythonSoftwareFoundation.Python.3.11_qbz5n2kfra8p0\\LocalCache\\local-packages\\Python311\\site-packages\\semantic_kernel\\orchestration\\delegate_inference.py:242\u001b[0m, in \u001b[0;36mDelegateInference.infer_unknown\u001b[1;34m(signature, awaitable)\u001b[0m\n\u001b[0;32m    239\u001b[0m \u001b[38;5;129m@staticmethod\u001b[39m\n\u001b[0;32m    240\u001b[0m \u001b[38;5;129m@_infers\u001b[39m(DelegateTypes\u001b[38;5;241m.\u001b[39mUnknown)\n\u001b[0;32m    241\u001b[0m \u001b[38;5;28;01mdef\u001b[39;00m \u001b[38;5;21minfer_unknown\u001b[39m(signature: Signature, awaitable: \u001b[38;5;28mbool\u001b[39m) \u001b[38;5;241m-\u001b[39m\u001b[38;5;241m>\u001b[39m NoReturn:\n\u001b[1;32m--> 242\u001b[0m     \u001b[38;5;28;01mraise\u001b[39;00m KernelException(\n\u001b[0;32m    243\u001b[0m         KernelException\u001b[38;5;241m.\u001b[39mErrorCodes\u001b[38;5;241m.\u001b[39mFunctionTypeNotSupported,\n\u001b[0;32m    244\u001b[0m         \u001b[38;5;124m\"\u001b[39m\u001b[38;5;124mInvalid function type detected, unable to infer DelegateType.\u001b[39m\u001b[38;5;124m\"\u001b[39m\n\u001b[0;32m    245\u001b[0m         \u001b[38;5;241m+\u001b[39m \u001b[38;5;124mf\u001b[39m\u001b[38;5;124m\"\u001b[39m\u001b[38;5;124m Function: \u001b[39m\u001b[38;5;132;01m{\u001b[39;00msignature\u001b[38;5;132;01m}\u001b[39;00m\u001b[38;5;124m\"\u001b[39m,\n\u001b[0;32m    246\u001b[0m     )\n",
      "\u001b[1;31mKernelException\u001b[0m: (<ErrorCodes.FunctionTypeNotSupported: 3>, 'Invalid function type detected, unable to infer DelegateType. Function: (language, subscription_key, region)', None)"
     ]
    }
   ],
   "source": [
    "from plugins.CallCenterPlugin.Transcribe import Transcribe\n",
    "\n",
    "# Importing the callcenter Plugin from the plugins directory, so we can start using its functions \n",
    "#callcenter_plugin = kernel.import_native_skill_from_directory(plugins_directory, \"CallCenterPlugin\")\n",
    "#import_native_skill_from_directory(\n",
    "    #plugins_directory, \"CallCenterPlugin\"\n",
    "#)\n",
    "\n",
    "aispeech_subscription_key = \"REPLACE\"\n",
    "aispeech_region = \"brazilsouth\"\n",
    "\n",
    "#Defining the input variables for the transcription funcion\n",
    "variables = sk.ContextVariables()\n",
    "variables[\"audio\"] = \"./audio/english_billing_process_sample.wav\"\n",
    "variables[\"language\"] = \"en-US\"\n",
    "variables[\"subscription_key\"] = aispeech_subscription_key\n",
    "variables[\"region\"] = aispeech_region\n",
    "\n",
    "callcenter_plugin = kernel.import_skill(Transcribe(), skill_name=\"CallCenterPlugin\")\n",
    "\n",
    "#Call the plugin with input variables\n",
    "result = await kernel.run_async(\n",
    "    callcenter_plugin[\"audio1\"],\n",
    "    input_vars = variables\n",
    "    )\n",
    "\n",
    "print(result)"
   ]
  },
  {
   "cell_type": "code",
   "execution_count": null,
   "metadata": {},
   "outputs": [],
   "source": []
  }
 ],
 "metadata": {
  "kernelspec": {
   "display_name": "workshop",
   "language": "python",
   "name": "python3"
  },
  "language_info": {
   "codemirror_mode": {
    "name": "ipython",
    "version": 3
   },
   "file_extension": ".py",
   "mimetype": "text/x-python",
   "name": "python",
   "nbconvert_exporter": "python",
   "pygments_lexer": "ipython3",
   "version": "3.11.6"
  }
 },
 "nbformat": 4,
 "nbformat_minor": 2
}
